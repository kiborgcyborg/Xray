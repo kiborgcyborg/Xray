{
 "cells": [
  {
   "cell_type": "markdown",
   "metadata": {},
   "source": [
    "Підключення до бази даних. Всі блоки нижче є опціонними і можуть викликатися в будь якій послідовності. Головне підключитися до бази."
   ]
  },
  {
   "cell_type": "code",
   "execution_count": 2,
   "metadata": {},
   "outputs": [],
   "source": [
    "import pandas as pd\n",
    "from sqlalchemy import create_engine\n",
    "\n",
    "\n",
    "engine = create_engine('sqlite:///xray_lite.db')\n",
    "xray = pd.read_sql_table('combined_table', con=engine)"
   ]
  },
  {
   "cell_type": "markdown",
   "metadata": {},
   "source": [
    "Завантажити усі дані по фільтру товару"
   ]
  },
  {
   "cell_type": "code",
   "execution_count": 4,
   "metadata": {},
   "outputs": [],
   "source": [
    "product_id = 901910100\n",
    "\n",
    "pi_filtred_xray = xray[xray['Код товару'] == product_id]\n",
    "pi_filtred_xray.to_excel(f\"kod_{product_id}.xlsx\", index=False, engine=\"openpyxl\")"
   ]
  },
  {
   "cell_type": "markdown",
   "metadata": {},
   "source": [
    "Завантажити усі дані по фільтру ЄРДПО"
   ]
  },
  {
   "cell_type": "code",
   "execution_count": 5,
   "metadata": {},
   "outputs": [],
   "source": [
    "\n",
    "erdpo = 43486570\n",
    "\n",
    "e_filtred_xray = xray[xray['Код фірми отримувача'] == erdpo]\n",
    "e_filtred_xray.to_excel(f\"erdpo_{erdpo}.xlsx\", index=False, engine=\"openpyxl\")"
   ]
  },
  {
   "cell_type": "markdown",
   "metadata": {},
   "source": [
    "Завантажити усі дані по фільтру де опис товару містить текст  "
   ]
  },
  {
   "cell_type": "code",
   "execution_count": 6,
   "metadata": {},
   "outputs": [],
   "source": [
    "opys_tovaru = \"ЧАСТИНИ БЕЗПІЛОТНИХ ЛІТАЛЬНИХ АПАРАТІВ\" \n",
    "\n",
    "ot_filtred_xray = xray[xray['Опис товару'].str.contains(opys_tovaru)]\n",
    "ot_filtred_xray.to_excel(f\"opys-tovaru_{opys_tovaru}.xlsx\", index=False, engine=\"openpyxl\")"
   ]
  }
 ],
 "metadata": {
  "kernelspec": {
   "display_name": ".venv",
   "language": "python",
   "name": "python3"
  },
  "language_info": {
   "codemirror_mode": {
    "name": "ipython",
    "version": 3
   },
   "file_extension": ".py",
   "mimetype": "text/x-python",
   "name": "python",
   "nbconvert_exporter": "python",
   "pygments_lexer": "ipython3",
   "version": "3.12.3"
  }
 },
 "nbformat": 4,
 "nbformat_minor": 2
}
